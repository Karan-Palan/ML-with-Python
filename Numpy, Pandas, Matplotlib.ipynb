{
 "cells": [
  {
   "cell_type": "markdown",
   "id": "c4fd0a65",
   "metadata": {},
   "source": [
    "# Numpy"
   ]
  },
  {
   "cell_type": "code",
   "execution_count": 1,
   "id": "36d7979b",
   "metadata": {},
   "outputs": [],
   "source": [
    "import numpy as np"
   ]
  },
  {
   "cell_type": "code",
   "execution_count": 4,
   "id": "ba39bd0d",
   "metadata": {},
   "outputs": [],
   "source": [
    "a = np.array([2,3,5], dtype = 'i')"
   ]
  },
  {
   "cell_type": "code",
   "execution_count": 5,
   "id": "a7d968dc",
   "metadata": {},
   "outputs": [
    {
     "data": {
      "text/plain": [
       "numpy.ndarray"
      ]
     },
     "execution_count": 5,
     "metadata": {},
     "output_type": "execute_result"
    }
   ],
   "source": [
    "type(a)"
   ]
  },
  {
   "cell_type": "code",
   "execution_count": 6,
   "id": "afa594e7",
   "metadata": {},
   "outputs": [
    {
     "data": {
      "text/plain": [
       "dtype('int32')"
      ]
     },
     "execution_count": 6,
     "metadata": {},
     "output_type": "execute_result"
    }
   ],
   "source": [
    "a.dtype"
   ]
  },
  {
   "cell_type": "code",
   "execution_count": 14,
   "id": "85ea7b6d",
   "metadata": {},
   "outputs": [
    {
     "data": {
      "text/plain": [
       "1"
      ]
     },
     "execution_count": 14,
     "metadata": {},
     "output_type": "execute_result"
    }
   ],
   "source": [
    "a.ndim # gives the dimensions of the array"
   ]
  },
  {
   "cell_type": "code",
   "execution_count": 15,
   "id": "518a4ae2",
   "metadata": {},
   "outputs": [],
   "source": [
    "b = np.array(3)"
   ]
  },
  {
   "cell_type": "code",
   "execution_count": 16,
   "id": "2ddfdf91",
   "metadata": {},
   "outputs": [
    {
     "data": {
      "text/plain": [
       "0"
      ]
     },
     "execution_count": 16,
     "metadata": {},
     "output_type": "execute_result"
    }
   ],
   "source": [
    "b.ndim"
   ]
  },
  {
   "cell_type": "markdown",
   "id": "d10684c6",
   "metadata": {},
   "source": [
    "### np.arange\n",
    "### np.random.permutation\n",
    "### np.reshape"
   ]
  },
  {
   "cell_type": "code",
   "execution_count": 19,
   "id": "47204e9d",
   "metadata": {},
   "outputs": [],
   "source": [
    "D = np.arange(100)"
   ]
  },
  {
   "cell_type": "code",
   "execution_count": 20,
   "id": "f994e23e",
   "metadata": {},
   "outputs": [
    {
     "data": {
      "text/plain": [
       "array([ 0,  1,  2,  3,  4,  5,  6,  7,  8,  9, 10, 11, 12, 13, 14, 15, 16,\n",
       "       17, 18, 19, 20, 21, 22, 23, 24, 25, 26, 27, 28, 29, 30, 31, 32, 33,\n",
       "       34, 35, 36, 37, 38, 39, 40, 41, 42, 43, 44, 45, 46, 47, 48, 49, 50,\n",
       "       51, 52, 53, 54, 55, 56, 57, 58, 59, 60, 61, 62, 63, 64, 65, 66, 67,\n",
       "       68, 69, 70, 71, 72, 73, 74, 75, 76, 77, 78, 79, 80, 81, 82, 83, 84,\n",
       "       85, 86, 87, 88, 89, 90, 91, 92, 93, 94, 95, 96, 97, 98, 99])"
      ]
     },
     "execution_count": 20,
     "metadata": {},
     "output_type": "execute_result"
    }
   ],
   "source": [
    "D"
   ]
  },
  {
   "cell_type": "code",
   "execution_count": 21,
   "id": "74526a28",
   "metadata": {},
   "outputs": [],
   "source": [
    "D = np.arange(20, 100)"
   ]
  },
  {
   "cell_type": "code",
   "execution_count": 22,
   "id": "e107df2c",
   "metadata": {},
   "outputs": [
    {
     "data": {
      "text/plain": [
       "array([20, 21, 22, 23, 24, 25, 26, 27, 28, 29, 30, 31, 32, 33, 34, 35, 36,\n",
       "       37, 38, 39, 40, 41, 42, 43, 44, 45, 46, 47, 48, 49, 50, 51, 52, 53,\n",
       "       54, 55, 56, 57, 58, 59, 60, 61, 62, 63, 64, 65, 66, 67, 68, 69, 70,\n",
       "       71, 72, 73, 74, 75, 76, 77, 78, 79, 80, 81, 82, 83, 84, 85, 86, 87,\n",
       "       88, 89, 90, 91, 92, 93, 94, 95, 96, 97, 98, 99])"
      ]
     },
     "execution_count": 22,
     "metadata": {},
     "output_type": "execute_result"
    }
   ],
   "source": [
    "D"
   ]
  },
  {
   "cell_type": "code",
   "execution_count": 23,
   "id": "6b18fe5a",
   "metadata": {},
   "outputs": [
    {
     "name": "stdout",
     "output_type": "stream",
     "text": [
      "[0, 1, 2, 3, 4, 5, 6, 7, 8, 9, 10, 11, 12, 13, 14]\n"
     ]
    }
   ],
   "source": [
    "print(list(range(15)))"
   ]
  },
  {
   "cell_type": "code",
   "execution_count": 24,
   "id": "da1335f4",
   "metadata": {},
   "outputs": [
    {
     "data": {
      "text/plain": [
       "array([2, 6, 5, 4, 9, 7, 0, 1, 3, 8])"
      ]
     },
     "execution_count": 24,
     "metadata": {},
     "output_type": "execute_result"
    }
   ],
   "source": [
    "np.random.permutation(np.arange(10))"
   ]
  },
  {
   "cell_type": "code",
   "execution_count": 25,
   "id": "b17e6b24",
   "metadata": {},
   "outputs": [
    {
     "data": {
      "text/plain": [
       "199"
      ]
     },
     "execution_count": 25,
     "metadata": {},
     "output_type": "execute_result"
    }
   ],
   "source": [
    "np.random.randint(20,561)"
   ]
  },
  {
   "cell_type": "code",
   "execution_count": 26,
   "id": "658938d3",
   "metadata": {},
   "outputs": [],
   "source": [
    "A = np.random.rand(1000)"
   ]
  },
  {
   "cell_type": "code",
   "execution_count": 27,
   "id": "02f3e7d7",
   "metadata": {},
   "outputs": [],
   "source": [
    "import matplotlib.pyplot as plt"
   ]
  },
  {
   "cell_type": "code",
   "execution_count": 28,
   "id": "d162a338",
   "metadata": {},
   "outputs": [
    {
     "data": {
      "text/plain": [
       "(array([111.,  97.,  99., 109., 106., 110.,  74.,  98.,  97.,  99.]),\n",
       " array([6.68312738e-04, 1.00475195e-01, 2.00282077e-01, 3.00088960e-01,\n",
       "        3.99895842e-01, 4.99702724e-01, 5.99509606e-01, 6.99316489e-01,\n",
       "        7.99123371e-01, 8.98930253e-01, 9.98737135e-01]),\n",
       " <BarContainer object of 10 artists>)"
      ]
     },
     "execution_count": 28,
     "metadata": {},
     "output_type": "execute_result"
    },
    {
     "data": {
      "image/png": "[encoded data removed]",
      "text/plain": [
       "<Figure size 640x480 with 1 Axes>"
      ]
     },
     "metadata": {},
     "output_type": "display_data"
    }
   ],
   "source": [
    "plt.hist(A)"
   ]
  },
  {
   "cell_type": "code",
   "execution_count": 30,
   "id": "2d2d8989",
   "metadata": {},
   "outputs": [
    {
     "data": {
      "text/plain": [
       "(array([50., 48., 39., 54., 44., 61., 47., 53., 54., 47., 59., 60., 57.,\n",
       "        50., 44., 54., 45., 46., 52., 54., 55., 48., 54., 53., 48., 55.,\n",
       "        59., 53., 54., 41., 52., 55., 44., 55., 43., 63., 75., 63., 52.,\n",
       "        42., 53., 45., 45., 40., 52., 42., 36., 49., 55., 51., 55., 52.,\n",
       "        43., 38., 66., 48., 41., 49., 58., 52., 47., 46., 46., 53., 48.,\n",
       "        57., 55., 50., 47., 65., 51., 51., 49., 44., 48., 55., 66., 51.,\n",
       "        61., 47., 48., 46., 48., 49., 50., 48., 36., 50., 54., 51., 54.,\n",
       "        52., 49., 49., 52., 58., 53., 49., 49., 59., 46., 49., 59., 46.,\n",
       "        43., 56., 59., 62., 55., 48., 50., 46., 44., 47., 52., 48., 45.,\n",
       "        52., 44., 60., 51., 53., 35., 51., 41., 40., 46., 49., 61., 43.,\n",
       "        54., 46., 51., 45., 54., 39., 43., 47., 53., 53., 48., 59., 35.,\n",
       "        47., 54., 38., 48., 59., 44., 36., 49., 40., 50., 44., 52., 42.,\n",
       "        43., 35., 43., 49., 47., 42., 45., 45., 54., 56., 49., 55., 40.,\n",
       "        55., 55., 50., 66., 56., 64., 39., 46., 42., 42., 49., 49., 58.,\n",
       "        51., 41., 47., 38., 47., 52., 54., 50., 45., 50., 60., 57., 42.,\n",
       "        65., 63., 54., 55., 51.]),\n",
       " array([2.12576077e-04, 5.20974696e-03, 1.02069178e-02, 1.52040887e-02,\n",
       "        2.02012596e-02, 2.51984305e-02, 3.01956014e-02, 3.51927723e-02,\n",
       "        4.01899432e-02, 4.51871140e-02, 5.01842849e-02, 5.51814558e-02,\n",
       "        6.01786267e-02, 6.51757976e-02, 7.01729685e-02, 7.51701394e-02,\n",
       "        8.01673102e-02, 8.51644811e-02, 9.01616520e-02, 9.51588229e-02,\n",
       "        1.00155994e-01, 1.05153165e-01, 1.10150336e-01, 1.15147506e-01,\n",
       "        1.20144677e-01, 1.25141848e-01, 1.30139019e-01, 1.35136190e-01,\n",
       "        1.40133361e-01, 1.45130532e-01, 1.50127703e-01, 1.55124874e-01,\n",
       "        1.60122044e-01, 1.65119215e-01, 1.70116386e-01, 1.75113557e-01,\n",
       "        1.80110728e-01, 1.85107899e-01, 1.90105070e-01, 1.95102241e-01,\n",
       "        2.00099411e-01, 2.05096582e-01, 2.10093753e-01, 2.15090924e-01,\n",
       "        2.20088095e-01, 2.25085266e-01, 2.30082437e-01, 2.35079608e-01,\n",
       "        2.40076779e-01, 2.45073949e-01, 2.50071120e-01, 2.55068291e-01,\n",
       "        2.60065462e-01, 2.65062633e-01, 2.70059804e-01, 2.75056975e-01,\n",
       "        2.80054146e-01, 2.85051317e-01, 2.90048487e-01, 2.95045658e-01,\n",
       "        3.00042829e-01, 3.05040000e-01, 3.10037171e-01, 3.15034342e-01,\n",
       "        3.20031513e-01, 3.25028684e-01, 3.30025854e-01, 3.35023025e-01,\n",
       "        3.40020196e-01, 3.45017367e-01, 3.50014538e-01, 3.55011709e-01,\n",
       "        3.60008880e-01, 3.65006051e-01, 3.70003222e-01, 3.75000392e-01,\n",
       "        3.79997563e-01, 3.84994734e-01, 3.89991905e-01, 3.94989076e-01,\n",
       "        3.99986247e-01, 4.04983418e-01, 4.09980589e-01, 4.14977760e-01,\n",
       "        4.19974930e-01, 4.24972101e-01, 4.29969272e-01, 4.34966443e-01,\n",
       "        4.39963614e-01, 4.44960785e-01, 4.49957956e-01, 4.54955127e-01,\n",
       "        4.59952298e-01, 4.64949468e-01, 4.69946639e-01, 4.74943810e-01,\n",
       "        4.79940981e-01, 4.84938152e-01, 4.89935323e-01, 4.94932494e-01,\n",
       "        4.99929665e-01, 5.04926835e-01, 5.09924006e-01, 5.14921177e-01,\n",
       "        5.19918348e-01, 5.24915519e-01, 5.29912690e-01, 5.34909861e-01,\n",
       "        5.39907032e-01, 5.44904203e-01, 5.49901373e-01, 5.54898544e-01,\n",
       "        5.59895715e-01, 5.64892886e-01, 5.69890057e-01, 5.74887228e-01,\n",
       "        5.79884399e-01, 5.84881570e-01, 5.89878741e-01, 5.94875911e-01,\n",
       "        5.99873082e-01, 6.04870253e-01, 6.09867424e-01, 6.14864595e-01,\n",
       "        6.19861766e-01, 6.24858937e-01, 6.29856108e-01, 6.34853278e-01,\n",
       "        6.39850449e-01, 6.44847620e-01, 6.49844791e-01, 6.54841962e-01,\n",
       "        6.59839133e-01, 6.64836304e-01, 6.69833475e-01, 6.74830646e-01,\n",
       "        6.79827816e-01, 6.84824987e-01, 6.89822158e-01, 6.94819329e-01,\n",
       "        6.99816500e-01, 7.04813671e-01, 7.09810842e-01, 7.14808013e-01,\n",
       "        7.19805184e-01, 7.24802354e-01, 7.29799525e-01, 7.34796696e-01,\n",
       "        7.39793867e-01, 7.44791038e-01, 7.49788209e-01, 7.54785380e-01,\n",
       "        7.59782551e-01, 7.64779722e-01, 7.69776892e-01, 7.74774063e-01,\n",
       "        7.79771234e-01, 7.84768405e-01, 7.89765576e-01, 7.94762747e-01,\n",
       "        7.99759918e-01, 8.04757089e-01, 8.09754259e-01, 8.14751430e-01,\n",
       "        8.19748601e-01, 8.24745772e-01, 8.29742943e-01, 8.34740114e-01,\n",
       "        8.39737285e-01, 8.44734456e-01, 8.49731627e-01, 8.54728797e-01,\n",
       "        8.59725968e-01, 8.64723139e-01, 8.69720310e-01, 8.74717481e-01,\n",
       "        8.79714652e-01, 8.84711823e-01, 8.89708994e-01, 8.94706165e-01,\n",
       "        8.99703335e-01, 9.04700506e-01, 9.09697677e-01, 9.14694848e-01,\n",
       "        9.19692019e-01, 9.24689190e-01, 9.29686361e-01, 9.34683532e-01,\n",
       "        9.39680702e-01, 9.44677873e-01, 9.49675044e-01, 9.54672215e-01,\n",
       "        9.59669386e-01, 9.64666557e-01, 9.69663728e-01, 9.74660899e-01,\n",
       "        9.79658070e-01, 9.84655240e-01, 9.89652411e-01, 9.94649582e-01,\n",
       "        9.99646753e-01]),\n",
       " <BarContainer object of 200 artists>)"
      ]
     },
     "execution_count": 30,
     "metadata": {},
     "output_type": "execute_result"
    },
    {
     "data": {
      "image/png": "[encoded data removed]",
      "text/plain": [
       "<Figure size 640x480 with 1 Axes>"
      ]
     },
     "metadata": {},
     "output_type": "display_data"
    }
   ],
   "source": [
    "B = np.random.rand(10000)\n",
    "plt.hist(B, bins = 200)"
   ]
  },
  {
   "cell_type": "code",
   "execution_count": 36,
   "id": "cb6254c4",
   "metadata": {},
   "outputs": [],
   "source": [
    "c = np.random.rand(2,3,4,5) "
   ]
  },
  {
   "cell_type": "code",
   "execution_count": 37,
   "id": "81eb8d9e",
   "metadata": {},
   "outputs": [
    {
     "data": {
      "text/plain": [
       "4"
      ]
     },
     "execution_count": 37,
     "metadata": {},
     "output_type": "execute_result"
    }
   ],
   "source": [
    "c.ndim"
   ]
  },
  {
   "cell_type": "code",
   "execution_count": 39,
   "id": "60325578",
   "metadata": {},
   "outputs": [],
   "source": [
    "D = np.arange(100).reshape(4,25)"
   ]
  },
  {
   "cell_type": "code",
   "execution_count": 40,
   "id": "25eef2db",
   "metadata": {},
   "outputs": [
    {
     "data": {
      "text/plain": [
       "(4, 25)"
      ]
     },
     "execution_count": 40,
     "metadata": {},
     "output_type": "execute_result"
    }
   ],
   "source": [
    "D.shape"
   ]
  },
  {
   "cell_type": "markdown",
   "id": "73b4a2f1",
   "metadata": {},
   "source": [
    "### slicing in numpy"
   ]
  },
  {
   "cell_type": "code",
   "execution_count": 41,
   "id": "6b4b333b",
   "metadata": {},
   "outputs": [],
   "source": [
    "A = np.arange(100)"
   ]
  },
  {
   "cell_type": "code",
   "execution_count": 43,
   "id": "8895f53e",
   "metadata": {},
   "outputs": [
    {
     "name": "stdout",
     "output_type": "stream",
     "text": [
      "[3 4 5 6 7 8 9]\n"
     ]
    }
   ],
   "source": [
    "b = A[3:10]\n",
    "print(b)"
   ]
  },
  {
   "cell_type": "code",
   "execution_count": 44,
   "id": "879d3c76",
   "metadata": {},
   "outputs": [],
   "source": [
    "b[0] = -1200"
   ]
  },
  {
   "cell_type": "code",
   "execution_count": 45,
   "id": "03e8bdfe",
   "metadata": {},
   "outputs": [
    {
     "data": {
      "text/plain": [
       "array([-1200,     4,     5,     6,     7,     8,     9])"
      ]
     },
     "execution_count": 45,
     "metadata": {},
     "output_type": "execute_result"
    }
   ],
   "source": [
    "b"
   ]
  },
  {
   "cell_type": "code",
   "execution_count": 46,
   "id": "7bcdfe32",
   "metadata": {},
   "outputs": [
    {
     "data": {
      "text/plain": [
       "array([    0,     1,     2, -1200,     4,     5,     6,     7,     8,\n",
       "           9,    10,    11,    12,    13,    14,    15,    16,    17,\n",
       "          18,    19,    20,    21,    22,    23,    24,    25,    26,\n",
       "          27,    28,    29,    30,    31,    32,    33,    34,    35,\n",
       "          36,    37,    38,    39,    40,    41,    42,    43,    44,\n",
       "          45,    46,    47,    48,    49,    50,    51,    52,    53,\n",
       "          54,    55,    56,    57,    58,    59,    60,    61,    62,\n",
       "          63,    64,    65,    66,    67,    68,    69,    70,    71,\n",
       "          72,    73,    74,    75,    76,    77,    78,    79,    80,\n",
       "          81,    82,    83,    84,    85,    86,    87,    88,    89,\n",
       "          90,    91,    92,    93,    94,    95,    96,    97,    98,\n",
       "          99])"
      ]
     },
     "execution_count": 46,
     "metadata": {},
     "output_type": "execute_result"
    }
   ],
   "source": [
    "A"
   ]
  },
  {
   "cell_type": "code",
   "execution_count": 47,
   "id": "dc37cb68",
   "metadata": {},
   "outputs": [
    {
     "data": {
      "text/plain": [
       "array([   99,    98,    97,    96,    95,    94,    93,    92,    91,\n",
       "          90,    89,    88,    87,    86,    85,    84,    83,    82,\n",
       "          81,    80,    79,    78,    77,    76,    75,    74,    73,\n",
       "          72,    71,    70,    69,    68,    67,    66,    65,    64,\n",
       "          63,    62,    61,    60,    59,    58,    57,    56,    55,\n",
       "          54,    53,    52,    51,    50,    49,    48,    47,    46,\n",
       "          45,    44,    43,    42,    41,    40,    39,    38,    37,\n",
       "          36,    35,    34,    33,    32,    31,    30,    29,    28,\n",
       "          27,    26,    25,    24,    23,    22,    21,    20,    19,\n",
       "          18,    17,    16,    15,    14,    13,    12,    11,    10,\n",
       "           9,     8,     7,     6,     5,     4, -1200,     2,     1,\n",
       "           0])"
      ]
     },
     "execution_count": 47,
     "metadata": {},
     "output_type": "execute_result"
    }
   ],
   "source": [
    "A[::-1]"
   ]
  },
  {
   "cell_type": "code",
   "execution_count": 50,
   "id": "ef66e4a2",
   "metadata": {},
   "outputs": [
    {
     "data": {
      "text/plain": [
       "array([[3., 7., 4., 5.],\n",
       "       [6., 6., 8., 8.],\n",
       "       [8., 7., 9., 4.],\n",
       "       [1., 9., 0., 8.],\n",
       "       [0., 1., 6., 6.]])"
      ]
     },
     "execution_count": 50,
     "metadata": {},
     "output_type": "execute_result"
    }
   ],
   "source": [
    "A = np.round(10*np.random.rand(5,4))\n",
    "A"
   ]
  },
  {
   "cell_type": "code",
   "execution_count": 51,
   "id": "d98b909e",
   "metadata": {},
   "outputs": [
    {
     "data": {
      "text/plain": [
       "8.0"
      ]
     },
     "execution_count": 51,
     "metadata": {},
     "output_type": "execute_result"
    }
   ],
   "source": [
    "A[1,2]"
   ]
  },
  {
   "cell_type": "code",
   "execution_count": 52,
   "id": "82a146cd",
   "metadata": {},
   "outputs": [
    {
     "data": {
      "text/plain": [
       "array([6., 6., 8., 8.])"
      ]
     },
     "execution_count": 52,
     "metadata": {},
     "output_type": "execute_result"
    }
   ],
   "source": [
    "A[1,:] #row"
   ]
  },
  {
   "cell_type": "code",
   "execution_count": 54,
   "id": "d1668f49",
   "metadata": {},
   "outputs": [
    {
     "data": {
      "text/plain": [
       "array([7., 6., 7., 9., 1.])"
      ]
     },
     "execution_count": 54,
     "metadata": {},
     "output_type": "execute_result"
    }
   ],
   "source": [
    "A[:,1] #column"
   ]
  },
  {
   "cell_type": "code",
   "execution_count": 55,
   "id": "64d1de01",
   "metadata": {},
   "outputs": [],
   "source": [
    "import numpy.linalg as la"
   ]
  },
  {
   "cell_type": "code",
   "execution_count": 56,
   "id": "fc8100b1",
   "metadata": {},
   "outputs": [
    {
     "data": {
      "text/plain": [
       "array([[-0.30394559, -0.8012769 ,  2.51342844],\n",
       "       [-0.12318248,  1.684818  , -1.54829354],\n",
       "       [ 1.60704789, -0.67832968,  0.12258537]])"
      ]
     },
     "execution_count": 56,
     "metadata": {},
     "output_type": "execute_result"
    }
   ],
   "source": [
    "la.inv(np.random.rand(3,3))"
   ]
  },
  {
   "cell_type": "code",
   "execution_count": 57,
   "id": "7c9d36fd",
   "metadata": {},
   "outputs": [],
   "source": [
    "A.sort(1)"
   ]
  },
  {
   "cell_type": "code",
   "execution_count": 58,
   "id": "227051c1",
   "metadata": {},
   "outputs": [
    {
     "data": {
      "text/plain": [
       "array([[3., 4., 5., 7.],\n",
       "       [6., 6., 8., 8.],\n",
       "       [4., 7., 8., 9.],\n",
       "       [0., 1., 8., 9.],\n",
       "       [0., 1., 6., 6.]])"
      ]
     },
     "execution_count": 58,
     "metadata": {},
     "output_type": "execute_result"
    }
   ],
   "source": [
    "A"
   ]
  },
  {
   "cell_type": "code",
   "execution_count": 59,
   "id": "973d2d4d",
   "metadata": {},
   "outputs": [],
   "source": [
    "# How is and, or not used for arrays and statements?\n",
    "# &, and\n",
    "# ~, not\n",
    "# |, or"
   ]
  },
  {
   "cell_type": "markdown",
   "id": "75a86a2d",
   "metadata": {},
   "source": [
    "### Broadcasting in numpy"
   ]
  },
  {
   "cell_type": "code",
   "execution_count": 61,
   "id": "4de686cd",
   "metadata": {},
   "outputs": [],
   "source": [
    "A = np.round(10*np.random.rand(2,3))"
   ]
  },
  {
   "cell_type": "code",
   "execution_count": 62,
   "id": "ff9f16fb",
   "metadata": {},
   "outputs": [
    {
     "data": {
      "text/plain": [
       "array([[5., 8., 7.],\n",
       "       [4., 9., 8.]])"
      ]
     },
     "execution_count": 62,
     "metadata": {},
     "output_type": "execute_result"
    }
   ],
   "source": [
    "A + 3"
   ]
  },
  {
   "cell_type": "code",
   "execution_count": 63,
   "id": "8734962e",
   "metadata": {},
   "outputs": [
    {
     "data": {
      "text/plain": [
       "array([[2., 5., 4.],\n",
       "       [2., 7., 6.]])"
      ]
     },
     "execution_count": 63,
     "metadata": {},
     "output_type": "execute_result"
    }
   ],
   "source": [
    "A + (np.arange(2).reshape(2,1))"
   ]
  },
  {
   "cell_type": "code",
   "execution_count": 64,
   "id": "6da4781e",
   "metadata": {},
   "outputs": [
    {
     "data": {
      "text/plain": [
       "array([0.2525042 , 0.59348396, 0.3465698 , ..., 0.9006139 , 0.60673078,\n",
       "       0.3266591 ])"
      ]
     },
     "execution_count": 64,
     "metadata": {},
     "output_type": "execute_result"
    }
   ],
   "source": [
    "B"
   ]
  },
  {
   "cell_type": "code",
   "execution_count": 65,
   "id": "974669ed",
   "metadata": {},
   "outputs": [
    {
     "ename": "ValueError",
     "evalue": "all the input arrays must have same number of dimensions, but the array at index 0 has 2 dimension(s) and the array at index 1 has 1 dimension(s)",
     "output_type": "error",
     "traceback": [
      "\u001b[0;31m---------------------------------------------------------------------------\u001b[0m",
      "\u001b[0;31mValueError\u001b[0m                                Traceback (most recent call last)",
      "Cell \u001b[0;32mIn[65], line 1\u001b[0m\n\u001b[0;32m----> 1\u001b[0m C \u001b[38;5;241m=\u001b[39m np\u001b[38;5;241m.\u001b[39mhstack((A,B))\n",
      "File \u001b[0;32m<__array_function__ internals>:200\u001b[0m, in \u001b[0;36mhstack\u001b[0;34m(*args, **kwargs)\u001b[0m\n",
      "File \u001b[0;32m~/anaconda3/lib/python3.11/site-packages/numpy/core/shape_base.py:370\u001b[0m, in \u001b[0;36mhstack\u001b[0;34m(tup, dtype, casting)\u001b[0m\n\u001b[1;32m    368\u001b[0m     \u001b[38;5;28;01mreturn\u001b[39;00m _nx\u001b[38;5;241m.\u001b[39mconcatenate(arrs, \u001b[38;5;241m0\u001b[39m, dtype\u001b[38;5;241m=\u001b[39mdtype, casting\u001b[38;5;241m=\u001b[39mcasting)\n\u001b[1;32m    369\u001b[0m \u001b[38;5;28;01melse\u001b[39;00m:\n\u001b[0;32m--> 370\u001b[0m     \u001b[38;5;28;01mreturn\u001b[39;00m _nx\u001b[38;5;241m.\u001b[39mconcatenate(arrs, \u001b[38;5;241m1\u001b[39m, dtype\u001b[38;5;241m=\u001b[39mdtype, casting\u001b[38;5;241m=\u001b[39mcasting)\n",
      "File \u001b[0;32m<__array_function__ internals>:200\u001b[0m, in \u001b[0;36mconcatenate\u001b[0;34m(*args, **kwargs)\u001b[0m\n",
      "\u001b[0;31mValueError\u001b[0m: all the input arrays must have same number of dimensions, but the array at index 0 has 2 dimension(s) and the array at index 1 has 1 dimension(s)"
     ]
    }
   ],
   "source": [
    "C = np.hstack((A,B)) # in tuple, ignore error"
   ]
  },
  {
   "cell_type": "code",
   "execution_count": 60,
   "id": "0983bfb3",
   "metadata": {},
   "outputs": [
    {
     "data": {
      "text/plain": [
       "<function numpy.sort(a, axis=-1, kind=None, order=None)>"
      ]
     },
     "execution_count": 60,
     "metadata": {},
     "output_type": "execute_result"
    }
   ],
   "source": [
    "# Universal Function\n",
    "np.hstack # Horizontal\n",
    "np.vstack # Vertical\n",
    "np.sort"
   ]
  },
  {
   "cell_type": "code",
   "execution_count": 66,
   "id": "7ed374c3",
   "metadata": {},
   "outputs": [],
   "source": [
    "# sort the string in alphabetical order"
   ]
  },
  {
   "cell_type": "code",
   "execution_count": 69,
   "id": "368503ba",
   "metadata": {},
   "outputs": [
    {
     "name": "stdout",
     "output_type": "stream",
     "text": [
      "9.88 ms ± 2.43 ms per loop (mean ± std. dev. of 7 runs, 100 loops each)\n",
      "40.3 µs ± 10.5 µs per loop (mean ± std. dev. of 7 runs, 10,000 loops each)\n"
     ]
    }
   ],
   "source": [
    "# Speed compare\n",
    "B = np.random.rand(100000)\n",
    "%timeit sum(B)\n",
    "%timeit np.sum(B) #B.sum()"
   ]
  },
  {
   "cell_type": "markdown",
   "id": "3b24b49a",
   "metadata": {},
   "source": [
    "### Avoid loops when using numpy. Use Universal functions as more as possible"
   ]
  },
  {
   "cell_type": "markdown",
   "id": "a0c8857f",
   "metadata": {},
   "source": [
    "# Pandas"
   ]
  },
  {
   "cell_type": "code",
   "execution_count": 74,
   "id": "0cfb035c",
   "metadata": {},
   "outputs": [],
   "source": [
    "import pandas as pd"
   ]
  },
  {
   "cell_type": "code",
   "execution_count": 77,
   "id": "18db086a",
   "metadata": {},
   "outputs": [],
   "source": [
    "A = pd.Series([2,3,4,5],index= ['a','b','c','d'])"
   ]
  },
  {
   "cell_type": "code",
   "execution_count": 78,
   "id": "1c47cf87",
   "metadata": {},
   "outputs": [
    {
     "data": {
      "text/plain": [
       "pandas.core.series.Series"
      ]
     },
     "execution_count": 78,
     "metadata": {},
     "output_type": "execute_result"
    }
   ],
   "source": [
    "type(A)"
   ]
  },
  {
   "cell_type": "code",
   "execution_count": 79,
   "id": "6fa09ce4",
   "metadata": {},
   "outputs": [
    {
     "data": {
      "text/plain": [
       "a    2\n",
       "b    3\n",
       "c    4\n",
       "dtype: int64"
      ]
     },
     "execution_count": 79,
     "metadata": {},
     "output_type": "execute_result"
    }
   ],
   "source": [
    "A['a':'c']"
   ]
  },
  {
   "cell_type": "code",
   "execution_count": 80,
   "id": "73931318",
   "metadata": {},
   "outputs": [],
   "source": [
    "# pd.DataFrame - used to represent in a prettier table format"
   ]
  },
  {
   "cell_type": "code",
   "execution_count": 87,
   "id": "38295942",
   "metadata": {},
   "outputs": [
    {
     "data": {
      "text/html": [
       "<div>\n",
       "<style scoped>\n",
       "    .dataframe tbody tr th:only-of-type {\n",
       "        vertical-align: middle;\n",
       "    }\n",
       "\n",
       "    .dataframe tbody tr th {\n",
       "        vertical-align: top;\n",
       "    }\n",
       "\n",
       "    .dataframe thead th {\n",
       "        text-align: right;\n",
       "    }\n",
       "</style>\n",
       "<table border=\"1\" class=\"dataframe\">\n",
       "  <thead>\n",
       "    <tr style=\"text-align: right;\">\n",
       "      <th></th>\n",
       "      <th>a</th>\n",
       "      <th>b</th>\n",
       "      <th>c</th>\n",
       "    </tr>\n",
       "  </thead>\n",
       "  <tbody>\n",
       "    <tr>\n",
       "      <th>0</th>\n",
       "      <td>1.0</td>\n",
       "      <td>2</td>\n",
       "      <td>NaN</td>\n",
       "    </tr>\n",
       "    <tr>\n",
       "      <th>1</th>\n",
       "      <td>NaN</td>\n",
       "      <td>6</td>\n",
       "      <td>-9.0</td>\n",
       "    </tr>\n",
       "  </tbody>\n",
       "</table>\n",
       "</div>"
      ],
      "text/plain": [
       "     a  b    c\n",
       "0  1.0  2  NaN\n",
       "1  NaN  6 -9.0"
      ]
     },
     "execution_count": 87,
     "metadata": {},
     "output_type": "execute_result"
    }
   ],
   "source": [
    "W = pd.DataFrame([{'a':1,'b':2},{'b':6,'c':-9}])\n",
    "W #NaN"
   ]
  },
  {
   "cell_type": "markdown",
   "id": "758b0fd1",
   "metadata": {},
   "source": [
    "### implicit and explicit indexing"
   ]
  },
  {
   "cell_type": "code",
   "execution_count": 88,
   "id": "f8e10f19",
   "metadata": {},
   "outputs": [],
   "source": [
    "A = pd.Series(['a','b','c'], index = [1,3,5])"
   ]
  },
  {
   "cell_type": "markdown",
   "id": "9377ca91",
   "metadata": {},
   "source": [
    "# Matplotlib"
   ]
  },
  {
   "cell_type": "code",
   "execution_count": 92,
   "id": "e83a88eb",
   "metadata": {},
   "outputs": [
    {
     "data": {
      "image/png": "[encoded data removed]",
      "text/plain": [
       "<Figure size 640x480 with 1 Axes>"
      ]
     },
     "metadata": {},
     "output_type": "display_data"
    }
   ],
   "source": [
    "x = np.linspace(0,10,1000)\n",
    "y = plt.plot(x,np.sin(x))"
   ]
  }
 ],
 "metadata": {
  "kernelspec": {
   "display_name": "Python 3 (ipykernel)",
   "language": "python",
   "name": "python3"
  },
  "language_info": {
   "codemirror_mode": {
    "name": "ipython",
    "version": 3
   },
   "file_extension": ".py",
   "mimetype": "text/x-python",
   "name": "python",
   "nbconvert_exporter": "python",
   "pygments_lexer": "ipython3",
   "version": "3.11.5"
  }
 },
 "nbformat": 4,
 "nbformat_minor": 5
}
