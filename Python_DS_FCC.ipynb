{
 "cells": [
  {
   "cell_type": "markdown",
   "id": "a889868a",
   "metadata": {},
   "source": [
    "# Python for Data Science"
   ]
  },
  {
   "cell_type": "markdown",
   "id": "fc755b15",
   "metadata": {},
   "source": [
    "### Brushing up syntax and python concepts"
   ]
  },
  {
   "cell_type": "code",
   "execution_count": 1,
   "id": "4df72033",
   "metadata": {},
   "outputs": [],
   "source": [
    "def printSuccess():\n",
    "    '''This is a Doctring'''\n",
    "    print(\"Hello\")"
   ]
  },
  {
   "cell_type": "markdown",
   "id": "4c012452",
   "metadata": {},
   "source": [
    "#### Alot of implementation of python is in c/c++"
   ]
  },
  {
   "cell_type": "code",
   "execution_count": 8,
   "id": "93119352",
   "metadata": {},
   "outputs": [],
   "source": [
    "def printMessage(msg, str):\n",
    "    if isinstance(msg, 'str'):\n",
    "        print(msg)\n",
    "    else:\n",
    "        print(\"Input is not a string\")"
   ]
  },
  {
   "cell_type": "code",
   "execution_count": 9,
   "id": "a83a223e",
   "metadata": {},
   "outputs": [],
   "source": [
    "def checkArgs(a,b,c):\n",
    "    if isinstance(a(int, float) and b(int, float) and c(int, float)):\n",
    "        return True\n",
    "    else:\n",
    "        return False"
   ]
  },
  {
   "cell_type": "markdown",
   "id": "6b405924",
   "metadata": {},
   "source": [
    "#### For universal adding, use * along with any function"
   ]
  },
  {
   "cell_type": "code",
   "execution_count": 13,
   "id": "b37126e6",
   "metadata": {},
   "outputs": [],
   "source": [
    "def myAddUniversal(*args):\n",
    "    s = 0 \n",
    "    for i in range (len(args)):\n",
    "        s += args[i] \n",
    "    return s"
   ]
  },
  {
   "cell_type": "code",
   "execution_count": 14,
   "id": "3a8ee1a6",
   "metadata": {},
   "outputs": [
    {
     "name": "stdout",
     "output_type": "stream",
     "text": [
      "15\n"
     ]
    }
   ],
   "source": [
    "print(myAddUniversal(2,5,8))"
   ]
  },
  {
   "cell_type": "markdown",
   "id": "f5e0b8de",
   "metadata": {},
   "source": [
    "#### Default values in python"
   ]
  },
  {
   "cell_type": "code",
   "execution_count": 15,
   "id": "1632a1e8",
   "metadata": {},
   "outputs": [],
   "source": [
    "def f(sum=0):\n",
    "    print(sum)"
   ]
  },
  {
   "cell_type": "code",
   "execution_count": 16,
   "id": "5db60c7b",
   "metadata": {},
   "outputs": [
    {
     "name": "stdout",
     "output_type": "stream",
     "text": [
      "2\n"
     ]
    }
   ],
   "source": [
    "f(2)"
   ]
  },
  {
   "cell_type": "code",
   "execution_count": 17,
   "id": "4a928b2d",
   "metadata": {},
   "outputs": [
    {
     "name": "stdout",
     "output_type": "stream",
     "text": [
      "0\n"
     ]
    }
   ],
   "source": [
    "f()"
   ]
  },
  {
   "cell_type": "code",
   "execution_count": 18,
   "id": "af7f68c7",
   "metadata": {},
   "outputs": [
    {
     "name": "stdout",
     "output_type": "stream",
     "text": [
      "[-9, 2, 3]\n"
     ]
    }
   ],
   "source": [
    "L = [1,2,3]\n",
    "LS = L\n",
    "LS[0] = -9\n",
    "print(L)"
   ]
  },
  {
   "cell_type": "markdown",
   "id": "a17a392d",
   "metadata": {},
   "source": [
    "#### Strings in python"
   ]
  },
  {
   "cell_type": "code",
   "execution_count": 19,
   "id": "1570be19",
   "metadata": {},
   "outputs": [
    {
     "name": "stdout",
     "output_type": "stream",
     "text": [
      "this 12 is a  45 string\n"
     ]
    }
   ],
   "source": [
    "print(\"this\",12,\"is a \",45,\"string\")"
   ]
  },
  {
   "cell_type": "code",
   "execution_count": 22,
   "id": "35a7656a",
   "metadata": {},
   "outputs": [
    {
     "name": "stdout",
     "output_type": "stream",
     "text": [
      "The price of this book is: 12\n",
      "The price of this book  is:  12\n"
     ]
    }
   ],
   "source": [
    "price = 12\n",
    "s = \"The price of this book\"\n",
    "v = s + ' is: ' + str(price)\n",
    "print(v)\n",
    "print(s, ' is: ', price)"
   ]
  },
  {
   "cell_type": "code",
   "execution_count": 23,
   "id": "8517c17e",
   "metadata": {},
   "outputs": [
    {
     "name": "stdout",
     "output_type": "stream",
     "text": [
      "e of \n"
     ]
    }
   ],
   "source": [
    "a = \"Game of Programming\"\n",
    "print(a[3:8])"
   ]
  },
  {
   "cell_type": "markdown",
   "id": "c0aa574a",
   "metadata": {},
   "source": [
    " #### A negative index is nothing but an index from the right side"
   ]
  },
  {
   "cell_type": "markdown",
   "id": "738cc838",
   "metadata": {},
   "source": [
    "#### start:end:step"
   ]
  },
  {
   "cell_type": "markdown",
   "id": "ba330e2c",
   "metadata": {},
   "source": [
    "#### .strip, .lower, .upper, .replace"
   ]
  },
  {
   "cell_type": "code",
   "execution_count": null,
   "id": "701afc4e",
   "metadata": {},
   "outputs": [],
   "source": []
  }
 ],
 "metadata": {
  "kernelspec": {
   "display_name": "Python 3 (ipykernel)",
   "language": "python",
   "name": "python3"
  },
  "language_info": {
   "codemirror_mode": {
    "name": "ipython",
    "version": 3
   },
   "file_extension": ".py",
   "mimetype": "text/x-python",
   "name": "python",
   "nbconvert_exporter": "python",
   "pygments_lexer": "ipython3",
   "version": "3.11.5"
  }
 },
 "nbformat": 4,
 "nbformat_minor": 5
}
