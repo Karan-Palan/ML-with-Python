{
 "cells": [
  {
   "cell_type": "markdown",
   "id": "c82971d7",
   "metadata": {},
   "source": [
    "# Data stuctures in python"
   ]
  },
  {
   "cell_type": "code",
   "execution_count": 1,
   "id": "42a3184e",
   "metadata": {},
   "outputs": [],
   "source": [
    "L = [1,3,4,6,7.8,\"karan\"] #list\n",
    "T = (1,2,3,4.8,\"name\") #tuple\n",
    "S = {1,2,3,4.8,\"name\"} #set\n",
    "D = {23:\"twothree\", 'name' : ' Karan'} #dict -- like object in Js"
   ]
  },
  {
   "cell_type": "code",
   "execution_count": 2,
   "id": "b1fcb4a5",
   "metadata": {},
   "outputs": [
    {
     "name": "stdout",
     "output_type": "stream",
     "text": [
      "The type of L is <class 'list'>\n"
     ]
    }
   ],
   "source": [
    "print(\"The type of L is\", type(L))"
   ]
  },
  {
   "cell_type": "code",
   "execution_count": 5,
   "id": "2ba2509e",
   "metadata": {},
   "outputs": [
    {
     "name": "stdout",
     "output_type": "stream",
     "text": [
      "3\n",
      "2\n",
      "True\n",
      "twothree\n"
     ]
    }
   ],
   "source": [
    "print(L[1])\n",
    "print(T[1])\n",
    "print(3 in S)\n",
    "print(D[23])"
   ]
  },
  {
   "cell_type": "code",
   "execution_count": 6,
   "id": "031b503d",
   "metadata": {},
   "outputs": [
    {
     "data": {
      "text/plain": [
       "[3, 4]"
      ]
     },
     "execution_count": 6,
     "metadata": {},
     "output_type": "execute_result"
    }
   ],
   "source": [
    "L[1:3] # same like string"
   ]
  },
  {
   "cell_type": "code",
   "execution_count": 7,
   "id": "452224dd",
   "metadata": {},
   "outputs": [
    {
     "data": {
      "text/plain": [
       "(1, 2, 3)"
      ]
     },
     "execution_count": 7,
     "metadata": {},
     "output_type": "execute_result"
    }
   ],
   "source": [
    "T[:3] # 0 to 2"
   ]
  },
  {
   "cell_type": "markdown",
   "id": "7ff02f69",
   "metadata": {},
   "source": [
    "### Tuple is immutable"
   ]
  },
  {
   "cell_type": "code",
   "execution_count": 8,
   "id": "c62eb7a5",
   "metadata": {},
   "outputs": [],
   "source": [
    "L.append(9.6)"
   ]
  },
  {
   "cell_type": "code",
   "execution_count": 9,
   "id": "ef53775a",
   "metadata": {},
   "outputs": [
    {
     "name": "stdout",
     "output_type": "stream",
     "text": [
      "[1, 3, 4, 6, 7.8, 'karan', 9.6]\n"
     ]
    }
   ],
   "source": [
    "print(L)"
   ]
  },
  {
   "cell_type": "code",
   "execution_count": 10,
   "id": "6d1bdb77",
   "metadata": {},
   "outputs": [
    {
     "name": "stdout",
     "output_type": "stream",
     "text": [
      "(1, 2, 3, 4.8, 'name', 'a', 'b', 5)\n"
     ]
    }
   ],
   "source": [
    "T2 = ('a','b',5)\n",
    "T3 = T+T2\n",
    "print(T3)"
   ]
  },
  {
   "cell_type": "code",
   "execution_count": 11,
   "id": "1fb49dd3",
   "metadata": {},
   "outputs": [],
   "source": [
    "D['newKey']= \"newValue\""
   ]
  },
  {
   "cell_type": "code",
   "execution_count": 12,
   "id": "0d387799",
   "metadata": {},
   "outputs": [
    {
     "data": {
      "text/plain": [
       "{23: 'twothree', 'name': ' Karan', 'newKey': 'newValue'}"
      ]
     },
     "execution_count": 12,
     "metadata": {},
     "output_type": "execute_result"
    }
   ],
   "source": [
    "D"
   ]
  },
  {
   "cell_type": "code",
   "execution_count": 13,
   "id": "5dbc4a42",
   "metadata": {},
   "outputs": [
    {
     "name": "stdout",
     "output_type": "stream",
     "text": [
      "{1, 2, 3, 4.8}\n"
     ]
    }
   ],
   "source": [
    "S.remove(\"name\")\n",
    "print(S)"
   ]
  },
  {
   "cell_type": "code",
   "execution_count": 14,
   "id": "a9f49566",
   "metadata": {},
   "outputs": [
    {
     "data": {
      "text/plain": [
       "[1, 3, 4, 6, 7.8, 'karan', 9.6]"
      ]
     },
     "execution_count": 14,
     "metadata": {},
     "output_type": "execute_result"
    }
   ],
   "source": [
    "L"
   ]
  },
  {
   "cell_type": "code",
   "execution_count": 15,
   "id": "63e9d5fa",
   "metadata": {},
   "outputs": [],
   "source": [
    "L2 = L.copy()"
   ]
  },
  {
   "cell_type": "code",
   "execution_count": 16,
   "id": "6e9615e2",
   "metadata": {},
   "outputs": [
    {
     "data": {
      "text/plain": [
       "[1, 3, 4, 6, 7.8, 'karan', 9.6]"
      ]
     },
     "execution_count": 16,
     "metadata": {},
     "output_type": "execute_result"
    }
   ],
   "source": [
    "L2"
   ]
  },
  {
   "cell_type": "code",
   "execution_count": 17,
   "id": "2a48bce9",
   "metadata": {},
   "outputs": [
    {
     "data": {
      "text/plain": [
       "4"
      ]
     },
     "execution_count": 17,
     "metadata": {},
     "output_type": "execute_result"
    }
   ],
   "source": [
    "L2[2]"
   ]
  },
  {
   "cell_type": "code",
   "execution_count": 19,
   "id": "c24941d6",
   "metadata": {},
   "outputs": [],
   "source": [
    " D2 = {'A':L, 'B':T, 'C':S}"
   ]
  },
  {
   "cell_type": "code",
   "execution_count": 21,
   "id": "54a784c4",
   "metadata": {},
   "outputs": [
    {
     "data": {
      "text/plain": [
       "[1, 3, 4, 6, 7.8, 'karan', 9.6]"
      ]
     },
     "execution_count": 21,
     "metadata": {},
     "output_type": "execute_result"
    }
   ],
   "source": [
    "D2['A']"
   ]
  },
  {
   "cell_type": "code",
   "execution_count": 25,
   "id": "593f0cc2",
   "metadata": {},
   "outputs": [],
   "source": [
    "L3 = [x**2 for x in range(10)]"
   ]
  },
  {
   "cell_type": "code",
   "execution_count": 26,
   "id": "11421283",
   "metadata": {},
   "outputs": [
    {
     "data": {
      "text/plain": [
       "[0, 1, 4, 9, 16, 25, 36, 49, 64, 81]"
      ]
     },
     "execution_count": 26,
     "metadata": {},
     "output_type": "execute_result"
    }
   ],
   "source": [
    "L3"
   ]
  },
  {
   "cell_type": "code",
   "execution_count": null,
   "id": "58330b82",
   "metadata": {},
   "outputs": [],
   "source": [
    "\"\"\"You are a teacher and you have diff student records containing id of a student and the marks list in each \n",
    "subject wherer different sudents have taken diff subjects.\n",
    "All these records are in a hard cipy. You want to enter all the data in computer and want to compute the average \n",
    "marks of each student and display\"\"\"\n",
    "\n",
    "def getDataFromUser():\n",
    "    D = {} #empty dictionary to store marks\n",
    "    while True:\n",
    "        studentId = input(\"Enter Student ID :\")\n",
    "        marksList = input(\"Enter the marks with comma sepreated values:\")\n",
    "        moreStudents = input(\"yes/no : \")\n",
    "        if studentId in D:\n",
    "            print(studentId, \"is already inserted\")\n",
    "        else:\n",
    "            D[studentId] = marksList.split(\",\")\n",
    "        if moreStudents.lower() == \"no\":\n",
    "            return D\n"
   ]
  },
  {
   "cell_type": "code",
   "execution_count": null,
   "id": "39cbe931",
   "metadata": {},
   "outputs": [],
   "source": [
    "getDatafromUser"
   ]
  },
  {
   "cell_type": "code",
   "execution_count": null,
   "id": "0d2baf3e",
   "metadata": {},
   "outputs": [],
   "source": [
    "\n",
    "def getAvgMarks(D):\n",
    "    avgMarks = {}\n",
    "    for x in D:\n",
    "        L = D[x]\n",
    "        s = 0\n",
    "        for marks in L:\n",
    "            s += int(marks)\n",
    "        avgMarks[x] = s/len(L)\n",
    "    return avgMarks"
   ]
  }
 ],
 "metadata": {
  "kernelspec": {
   "display_name": "Python 3 (ipykernel)",
   "language": "python",
   "name": "python3"
  },
  "language_info": {
   "codemirror_mode": {
    "name": "ipython",
    "version": 3
   },
   "file_extension": ".py",
   "mimetype": "text/x-python",
   "name": "python",
   "nbconvert_exporter": "python",
   "pygments_lexer": "ipython3",
   "version": "3.11.5"
  }
 },
 "nbformat": 4,
 "nbformat_minor": 5
}
